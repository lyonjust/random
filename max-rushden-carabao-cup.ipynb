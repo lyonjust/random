{
 "cells": [
  {
   "cell_type": "code",
   "execution_count": 1,
   "metadata": {},
   "outputs": [],
   "source": [
    "import requests\n",
    "from bs4 import BeautifulSoup\n",
    "import numpy as np"
   ]
  },
  {
   "cell_type": "code",
   "execution_count": 2,
   "metadata": {},
   "outputs": [],
   "source": [
    "SEED = 1\n",
    "\n",
    "SEASON = 19\n",
    "\n",
    "league_ids = {\n",
    "    'premier_league': 1,\n",
    "    'championship': 2,\n",
    "    'league_one': 3,\n",
    "    'league_two': 4\n",
    "}\n"
   ]
  },
  {
   "cell_type": "code",
   "execution_count": 3,
   "metadata": {},
   "outputs": [],
   "source": [
    "rng = np.random.default_rng(SEED)"
   ]
  },
  {
   "cell_type": "code",
   "execution_count": 4,
   "metadata": {},
   "outputs": [],
   "source": [
    "raw_league_tables = {}\n",
    "\n",
    "for league in league_ids:\n",
    "    page = requests.get('https://thefishy.co.uk/leaguetable.php?table=' + str(league_ids[league]) + '&season=' + str(SEASON))\n",
    "    soup = BeautifulSoup(page.text, 'html.parser')\n",
    "    raw_table = soup.find_all(class_='cats')\n",
    "    raw_league_tables[league] = raw_table"
   ]
  },
  {
   "cell_type": "code",
   "execution_count": 5,
   "metadata": {},
   "outputs": [],
   "source": [
    "def strip_out_club_name(raw_row):\n",
    "    TRAILING_CHARS = 9\n",
    "    raw_string = str(raw_row)\n",
    "    no_trailing_chars = raw_string[:-TRAILING_CHARS]\n",
    "    last_tag_index = no_trailing_chars.rfind('>') + 1\n",
    "    club_name = no_trailing_chars[last_tag_index:]\n",
    "\n",
    "    return club_name"
   ]
  },
  {
   "cell_type": "code",
   "execution_count": 6,
   "metadata": {},
   "outputs": [],
   "source": [
    "def parse_league_table(league_soup):\n",
    "\n",
    "    temp = []\n",
    "\n",
    "    for row in league_soup:\n",
    "        if 'team' in str(row):\n",
    "            temp.append(strip_out_club_name(row))\n",
    "\n",
    "    league_table = list(dict.fromkeys(temp))\n",
    "\n",
    "    return league_table"
   ]
  },
  {
   "cell_type": "code",
   "execution_count": 7,
   "metadata": {},
   "outputs": [],
   "source": [
    "football_league_standings = []\n",
    "\n",
    "for league in league_ids:\n",
    "    football_league_standings.extend(parse_league_table(raw_league_tables[league]))"
   ]
  },
  {
   "cell_type": "code",
   "execution_count": 8,
   "metadata": {},
   "outputs": [],
   "source": [
    "football_league_standings.reverse()"
   ]
  },
  {
   "cell_type": "code",
   "execution_count": 9,
   "metadata": {},
   "outputs": [],
   "source": [
    "number_of_entries = {}\n",
    "\n",
    "for final_position, club in enumerate(football_league_standings):\n",
    "    number_of_entries[club] = final_position + 1"
   ]
  },
  {
   "cell_type": "code",
   "execution_count": 10,
   "metadata": {},
   "outputs": [
    {
     "data": {
      "text/plain": [
       "{'Scunthorpe': 1,\n",
       " 'Oldham': 2,\n",
       " 'Barrow': 3,\n",
       " 'Stevenage': 4,\n",
       " 'Carlisle': 5,\n",
       " 'Harrogate Town': 6,\n",
       " 'Rochdale': 7,\n",
       " 'Hartlepool': 8,\n",
       " 'Walsall': 9,\n",
       " 'Colchester': 10,\n",
       " 'Bradford': 11,\n",
       " 'Leyton Orient': 12,\n",
       " 'Crawley Town': 13,\n",
       " 'Newport County': 14,\n",
       " 'Salford': 15,\n",
       " 'Tranmere': 16,\n",
       " 'Sutton Utd': 17,\n",
       " 'Mansfield': 18,\n",
       " 'Swindon': 19,\n",
       " 'Port Vale': 20,\n",
       " 'Northampton': 21,\n",
       " 'Bristol Rovers': 22,\n",
       " 'Exeter': 23,\n",
       " 'Forest Green': 24,\n",
       " 'Crewe': 25,\n",
       " 'AFC Wimbledon': 26,\n",
       " 'Doncaster': 27,\n",
       " 'Gillingham': 28,\n",
       " 'Fleetwood Town': 29,\n",
       " 'Morecambe': 30,\n",
       " 'Shrewsbury': 31,\n",
       " 'Lincoln City': 32,\n",
       " 'Burton Albion': 33,\n",
       " 'Cheltenham': 34,\n",
       " 'Cambridge Utd': 35,\n",
       " 'Charlton': 36,\n",
       " 'Accrington Stanley': 37,\n",
       " 'Ipswich': 38,\n",
       " 'Portsmouth': 39,\n",
       " 'Bolton': 40,\n",
       " 'Oxford Utd': 41,\n",
       " 'Plymouth': 42,\n",
       " 'Wycombe': 43,\n",
       " 'Sunderland': 44,\n",
       " 'Sheff Wed': 45,\n",
       " 'MK Dons': 46,\n",
       " 'Rotherham': 47,\n",
       " 'Wigan': 48,\n",
       " 'Barnsley': 49,\n",
       " 'Derby': 50,\n",
       " 'Peterborough': 51,\n",
       " 'Reading': 52,\n",
       " 'Birmingham': 53,\n",
       " 'Hull': 54,\n",
       " 'Cardiff': 55,\n",
       " 'Bristol City': 56,\n",
       " 'Blackpool': 57,\n",
       " 'Swansea': 58,\n",
       " 'Stoke': 59,\n",
       " 'Preston': 60,\n",
       " 'Coventry': 61,\n",
       " 'QPR': 62,\n",
       " 'West Brom': 63,\n",
       " 'Millwall': 64,\n",
       " 'Blackburn': 65,\n",
       " 'Middlesbrough': 66,\n",
       " 'Luton': 67,\n",
       " 'Sheffield Utd': 68,\n",
       " \"Nott'm Forest\": 69,\n",
       " 'Huddersfield': 70,\n",
       " 'Bournemouth': 71,\n",
       " 'Fulham': 72,\n",
       " 'Norwich': 73,\n",
       " 'Watford': 74,\n",
       " 'Burnley': 75,\n",
       " 'Leeds': 76,\n",
       " 'Everton': 77,\n",
       " 'Southampton': 78,\n",
       " 'Aston Villa': 79,\n",
       " 'Brentford': 80,\n",
       " 'Crystal Palace': 81,\n",
       " 'Newcastle': 82,\n",
       " 'Wolverhampton': 83,\n",
       " 'Brighton': 84,\n",
       " 'Leicester': 85,\n",
       " 'West Ham': 86,\n",
       " 'Man Utd': 87,\n",
       " 'Arsenal': 88,\n",
       " 'Tottenham': 89,\n",
       " 'Chelsea': 90,\n",
       " 'Liverpool': 91,\n",
       " 'Man City': 92}"
      ]
     },
     "execution_count": 10,
     "metadata": {},
     "output_type": "execute_result"
    }
   ],
   "source": [
    "number_of_entries"
   ]
  },
  {
   "cell_type": "code",
   "execution_count": 11,
   "metadata": {},
   "outputs": [
    {
     "data": {
      "text/plain": [
       "4278"
      ]
     },
     "execution_count": 11,
     "metadata": {},
     "output_type": "execute_result"
    }
   ],
   "source": [
    "total_entries = sum(number_of_entries.values())\n",
    "total_entries"
   ]
  },
  {
   "cell_type": "code",
   "execution_count": 12,
   "metadata": {},
   "outputs": [
    {
     "data": {
      "text/plain": [
       "{'Scunthorpe': 0.0002337540906965872,\n",
       " 'Oldham': 0.0004675081813931744,\n",
       " 'Barrow': 0.0007012622720897616,\n",
       " 'Stevenage': 0.0009350163627863488,\n",
       " 'Carlisle': 0.0011687704534829358,\n",
       " 'Harrogate Town': 0.001402524544179523,\n",
       " 'Rochdale': 0.0016362786348761104,\n",
       " 'Hartlepool': 0.0018700327255726976,\n",
       " 'Walsall': 0.0021037868162692847,\n",
       " 'Colchester': 0.0023375409069658717,\n",
       " 'Bradford': 0.002571294997662459,\n",
       " 'Leyton Orient': 0.002805049088359046,\n",
       " 'Crawley Town': 0.0030388031790556337,\n",
       " 'Newport County': 0.0032725572697522207,\n",
       " 'Salford': 0.0035063113604488078,\n",
       " 'Tranmere': 0.0037400654511453952,\n",
       " 'Sutton Utd': 0.003973819541841982,\n",
       " 'Mansfield': 0.004207573632538569,\n",
       " 'Swindon': 0.004441327723235157,\n",
       " 'Port Vale': 0.004675081813931743,\n",
       " 'Northampton': 0.004908835904628331,\n",
       " 'Bristol Rovers': 0.005142589995324918,\n",
       " 'Exeter': 0.005376344086021506,\n",
       " 'Forest Green': 0.005610098176718092,\n",
       " 'Crewe': 0.00584385226741468,\n",
       " 'AFC Wimbledon': 0.006077606358111267,\n",
       " 'Doncaster': 0.006311360448807854,\n",
       " 'Gillingham': 0.0065451145395044414,\n",
       " 'Fleetwood Town': 0.006778868630201029,\n",
       " 'Morecambe': 0.0070126227208976155,\n",
       " 'Shrewsbury': 0.007246376811594203,\n",
       " 'Lincoln City': 0.0074801309022907905,\n",
       " 'Burton Albion': 0.007713884992987377,\n",
       " 'Cheltenham': 0.007947639083683964,\n",
       " 'Cambridge Utd': 0.008181393174380552,\n",
       " 'Charlton': 0.008415147265077139,\n",
       " 'Accrington Stanley': 0.008648901355773725,\n",
       " 'Ipswich': 0.008882655446470314,\n",
       " 'Portsmouth': 0.0091164095371669,\n",
       " 'Bolton': 0.009350163627863487,\n",
       " 'Oxford Utd': 0.009583917718560075,\n",
       " 'Plymouth': 0.009817671809256662,\n",
       " 'Wycombe': 0.010051425899953248,\n",
       " 'Sunderland': 0.010285179990649837,\n",
       " 'Sheff Wed': 0.010518934081346423,\n",
       " 'MK Dons': 0.010752688172043012,\n",
       " 'Rotherham': 0.010986442262739598,\n",
       " 'Wigan': 0.011220196353436185,\n",
       " 'Barnsley': 0.011453950444132773,\n",
       " 'Derby': 0.01168770453482936,\n",
       " 'Peterborough': 0.011921458625525946,\n",
       " 'Reading': 0.012155212716222535,\n",
       " 'Birmingham': 0.012388966806919121,\n",
       " 'Hull': 0.012622720897615708,\n",
       " 'Cardiff': 0.012856474988312296,\n",
       " 'Bristol City': 0.013090229079008883,\n",
       " 'Blackpool': 0.01332398316970547,\n",
       " 'Swansea': 0.013557737260402058,\n",
       " 'Stoke': 0.013791491351098644,\n",
       " 'Preston': 0.014025245441795231,\n",
       " 'Coventry': 0.01425899953249182,\n",
       " 'QPR': 0.014492753623188406,\n",
       " 'West Brom': 0.014726507713884993,\n",
       " 'Millwall': 0.014960261804581581,\n",
       " 'Blackburn': 0.015194015895278168,\n",
       " 'Middlesbrough': 0.015427769985974754,\n",
       " 'Luton': 0.015661524076671342,\n",
       " 'Sheffield Utd': 0.015895278167367927,\n",
       " \"Nott'm Forest\": 0.016129032258064516,\n",
       " 'Huddersfield': 0.016362786348761104,\n",
       " 'Bournemouth': 0.01659654043945769,\n",
       " 'Fulham': 0.016830294530154277,\n",
       " 'Norwich': 0.017064048620850866,\n",
       " 'Watford': 0.01729780271154745,\n",
       " 'Burnley': 0.01753155680224404,\n",
       " 'Leeds': 0.017765310892940627,\n",
       " 'Everton': 0.017999064983637212,\n",
       " 'Southampton': 0.0182328190743338,\n",
       " 'Aston Villa': 0.01846657316503039,\n",
       " 'Brentford': 0.018700327255726974,\n",
       " 'Crystal Palace': 0.018934081346423562,\n",
       " 'Newcastle': 0.01916783543712015,\n",
       " 'Wolverhampton': 0.019401589527816735,\n",
       " 'Brighton': 0.019635343618513323,\n",
       " 'Leicester': 0.019869097709209912,\n",
       " 'West Ham': 0.020102851799906497,\n",
       " 'Man Utd': 0.020336605890603085,\n",
       " 'Arsenal': 0.020570359981299673,\n",
       " 'Tottenham': 0.020804114071996258,\n",
       " 'Chelsea': 0.021037868162692847,\n",
       " 'Liverpool': 0.021271622253389435,\n",
       " 'Man City': 0.021505376344086023}"
      ]
     },
     "execution_count": 12,
     "metadata": {},
     "output_type": "execute_result"
    }
   ],
   "source": [
    "entries_as_probability = {}\n",
    "\n",
    "for club in number_of_entries:\n",
    "    entries_as_probability[club] = number_of_entries[club] / total_entries\n",
    "\n",
    "entries_as_probability"
   ]
  },
  {
   "cell_type": "code",
   "execution_count": 13,
   "metadata": {},
   "outputs": [],
   "source": [
    "clubs_to_draw_from = list(entries_as_probability.keys())\n",
    "probabilities = list(entries_as_probability.values())"
   ]
  },
  {
   "cell_type": "code",
   "execution_count": 14,
   "metadata": {},
   "outputs": [
    {
     "data": {
      "text/plain": [
       "array(['Middlesbrough', 'Chelsea', 'Cambridge Utd', 'Peterborough'],\n",
       "      dtype='<U18')"
      ]
     },
     "execution_count": 14,
     "metadata": {},
     "output_type": "execute_result"
    }
   ],
   "source": [
    "rng.choice(clubs_to_draw_from, size=4, replace=False, p=probabilities)"
   ]
  }
 ],
 "metadata": {
  "kernelspec": {
   "display_name": "Python 3.10.5 ('py3105')",
   "language": "python",
   "name": "python3"
  },
  "language_info": {
   "codemirror_mode": {
    "name": "ipython",
    "version": 3
   },
   "file_extension": ".py",
   "mimetype": "text/x-python",
   "name": "python",
   "nbconvert_exporter": "python",
   "pygments_lexer": "ipython3",
   "version": "3.10.5"
  },
  "orig_nbformat": 4,
  "vscode": {
   "interpreter": {
    "hash": "3147a534e5761fb78990c2c2cd7d8c19084034ed5d96bda803c5d9ba8071b170"
   }
  }
 },
 "nbformat": 4,
 "nbformat_minor": 2
}
