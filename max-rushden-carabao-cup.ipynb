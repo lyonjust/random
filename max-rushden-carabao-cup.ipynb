{
 "cells": [
  {
   "cell_type": "code",
   "execution_count": 1,
   "metadata": {},
   "outputs": [],
   "source": [
    "import requests\n",
    "from bs4 import BeautifulSoup\n",
    "import numpy as np"
   ]
  },
  {
   "cell_type": "code",
   "execution_count": 2,
   "metadata": {},
   "outputs": [],
   "source": [
    "SEED = 1\n",
    "\n",
    "SEASON = 19\n",
    "\n",
    "league_ids = {\n",
    "    'premier_league': 1,\n",
    "    'championship': 2,\n",
    "    'league_one': 3,\n",
    "    'league_two': 4\n",
    "}\n"
   ]
  },
  {
   "cell_type": "code",
   "execution_count": 3,
   "metadata": {},
   "outputs": [],
   "source": [
    "rng = np.random.default_rng(SEED)"
   ]
  },
  {
   "cell_type": "code",
   "execution_count": 4,
   "metadata": {},
   "outputs": [],
   "source": [
    "raw_league_tables = {}\n",
    "\n",
    "for league in league_ids:\n",
    "    page = requests.get('https://thefishy.co.uk/leaguetable.php?table=' + str(league_ids[league]) + '&season=' + str(SEASON))\n",
    "    soup = BeautifulSoup(page.text, 'html.parser')\n",
    "    raw_table = soup.find_all(class_='cats')\n",
    "    raw_league_tables[league] = raw_table"
   ]
  },
  {
   "cell_type": "code",
   "execution_count": 5,
   "metadata": {},
   "outputs": [],
   "source": [
    "def strip_out_club_name(raw_row):\n",
    "\n",
    "    TRAILING_CHARS = 9\n",
    "    \n",
    "    raw_string = str(raw_row)\n",
    "    no_trailing_chars = raw_string[:-TRAILING_CHARS]\n",
    "    last_tag_index = no_trailing_chars.rfind('>') + 1\n",
    "    club_name = no_trailing_chars[last_tag_index:]\n",
    "\n",
    "    return club_name"
   ]
  },
  {
   "cell_type": "code",
   "execution_count": 6,
   "metadata": {},
   "outputs": [],
   "source": [
    "def parse_league_table(league_soup):\n",
    "\n",
    "    temp = []\n",
    "\n",
    "    for row in league_soup:\n",
    "        if 'team' in str(row):\n",
    "            temp.append(strip_out_club_name(row))\n",
    "\n",
    "    league_table = list(dict.fromkeys(temp))\n",
    "\n",
    "    return league_table"
   ]
  },
  {
   "cell_type": "code",
   "execution_count": 7,
   "metadata": {},
   "outputs": [],
   "source": [
    "football_league_standings = []\n",
    "\n",
    "for league in league_ids:\n",
    "    football_league_standings.extend(parse_league_table(raw_league_tables[league]))"
   ]
  },
  {
   "cell_type": "code",
   "execution_count": 8,
   "metadata": {},
   "outputs": [],
   "source": [
    "football_league_standings.reverse()"
   ]
  },
  {
   "cell_type": "code",
   "execution_count": 9,
   "metadata": {},
   "outputs": [],
   "source": [
    "number_of_entries = {}\n",
    "\n",
    "for final_position, club in enumerate(football_league_standings):\n",
    "    number_of_entries[club] = final_position + 1"
   ]
  },
  {
   "cell_type": "code",
   "execution_count": 10,
   "metadata": {},
   "outputs": [
    {
     "data": {
      "text/plain": [
       "{'Scunthorpe': 1,\n",
       " 'Oldham': 2,\n",
       " 'Barrow': 3,\n",
       " 'Stevenage': 4,\n",
       " 'Carlisle': 5,\n",
       " 'Harrogate Town': 6,\n",
       " 'Rochdale': 7,\n",
       " 'Hartlepool': 8,\n",
       " 'Walsall': 9,\n",
       " 'Colchester': 10,\n",
       " 'Bradford': 11,\n",
       " 'Leyton Orient': 12,\n",
       " 'Crawley Town': 13,\n",
       " 'Newport County': 14,\n",
       " 'Salford': 15,\n",
       " 'Tranmere': 16,\n",
       " 'Sutton Utd': 17,\n",
       " 'Mansfield': 18,\n",
       " 'Swindon': 19,\n",
       " 'Port Vale': 20,\n",
       " 'Northampton': 21,\n",
       " 'Bristol Rovers': 22,\n",
       " 'Exeter': 23,\n",
       " 'Forest Green': 24,\n",
       " 'Crewe': 25,\n",
       " 'AFC Wimbledon': 26,\n",
       " 'Doncaster': 27,\n",
       " 'Gillingham': 28,\n",
       " 'Fleetwood Town': 29,\n",
       " 'Morecambe': 30,\n",
       " 'Shrewsbury': 31,\n",
       " 'Lincoln City': 32,\n",
       " 'Burton Albion': 33,\n",
       " 'Cheltenham': 34,\n",
       " 'Cambridge Utd': 35,\n",
       " 'Charlton': 36,\n",
       " 'Accrington Stanley': 37,\n",
       " 'Ipswich': 38,\n",
       " 'Portsmouth': 39,\n",
       " 'Bolton': 40,\n",
       " 'Oxford Utd': 41,\n",
       " 'Plymouth': 42,\n",
       " 'Wycombe': 43,\n",
       " 'Sunderland': 44,\n",
       " 'Sheff Wed': 45,\n",
       " 'MK Dons': 46,\n",
       " 'Rotherham': 47,\n",
       " 'Wigan': 48,\n",
       " 'Barnsley': 49,\n",
       " 'Derby': 50,\n",
       " 'Peterborough': 51,\n",
       " 'Reading': 52,\n",
       " 'Birmingham': 53,\n",
       " 'Hull': 54,\n",
       " 'Cardiff': 55,\n",
       " 'Bristol City': 56,\n",
       " 'Blackpool': 57,\n",
       " 'Swansea': 58,\n",
       " 'Stoke': 59,\n",
       " 'Preston': 60,\n",
       " 'Coventry': 61,\n",
       " 'QPR': 62,\n",
       " 'West Brom': 63,\n",
       " 'Millwall': 64,\n",
       " 'Blackburn': 65,\n",
       " 'Middlesbrough': 66,\n",
       " 'Luton': 67,\n",
       " 'Sheffield Utd': 68,\n",
       " \"Nott'm Forest\": 69,\n",
       " 'Huddersfield': 70,\n",
       " 'Bournemouth': 71,\n",
       " 'Fulham': 72,\n",
       " 'Norwich': 73,\n",
       " 'Watford': 74,\n",
       " 'Burnley': 75,\n",
       " 'Leeds': 76,\n",
       " 'Everton': 77,\n",
       " 'Southampton': 78,\n",
       " 'Aston Villa': 79,\n",
       " 'Brentford': 80,\n",
       " 'Crystal Palace': 81,\n",
       " 'Newcastle': 82,\n",
       " 'Wolverhampton': 83,\n",
       " 'Brighton': 84,\n",
       " 'Leicester': 85,\n",
       " 'West Ham': 86,\n",
       " 'Man Utd': 87,\n",
       " 'Arsenal': 88,\n",
       " 'Tottenham': 89,\n",
       " 'Chelsea': 90,\n",
       " 'Liverpool': 91,\n",
       " 'Man City': 92}"
      ]
     },
     "execution_count": 10,
     "metadata": {},
     "output_type": "execute_result"
    }
   ],
   "source": [
    "number_of_entries"
   ]
  },
  {
   "cell_type": "code",
   "execution_count": 11,
   "metadata": {},
   "outputs": [
    {
     "data": {
      "text/plain": [
       "4278"
      ]
     },
     "execution_count": 11,
     "metadata": {},
     "output_type": "execute_result"
    }
   ],
   "source": [
    "total_entries = sum(number_of_entries.values())\n",
    "total_entries"
   ]
  },
  {
   "cell_type": "code",
   "execution_count": 12,
   "metadata": {},
   "outputs": [
    {
     "data": {
      "text/plain": [
       "array([0.00023375, 0.00046751, 0.00070126, 0.00093502, 0.00116877,\n",
       "       0.00140252, 0.00163628, 0.00187003, 0.00210379, 0.00233754,\n",
       "       0.00257129, 0.00280505, 0.0030388 , 0.00327256, 0.00350631,\n",
       "       0.00374007, 0.00397382, 0.00420757, 0.00444133, 0.00467508,\n",
       "       0.00490884, 0.00514259, 0.00537634, 0.0056101 , 0.00584385,\n",
       "       0.00607761, 0.00631136, 0.00654511, 0.00677887, 0.00701262,\n",
       "       0.00724638, 0.00748013, 0.00771388, 0.00794764, 0.00818139,\n",
       "       0.00841515, 0.0086489 , 0.00888266, 0.00911641, 0.00935016,\n",
       "       0.00958392, 0.00981767, 0.01005143, 0.01028518, 0.01051893,\n",
       "       0.01075269, 0.01098644, 0.0112202 , 0.01145395, 0.0116877 ,\n",
       "       0.01192146, 0.01215521, 0.01238897, 0.01262272, 0.01285647,\n",
       "       0.01309023, 0.01332398, 0.01355774, 0.01379149, 0.01402525,\n",
       "       0.014259  , 0.01449275, 0.01472651, 0.01496026, 0.01519402,\n",
       "       0.01542777, 0.01566152, 0.01589528, 0.01612903, 0.01636279,\n",
       "       0.01659654, 0.01683029, 0.01706405, 0.0172978 , 0.01753156,\n",
       "       0.01776531, 0.01799906, 0.01823282, 0.01846657, 0.01870033,\n",
       "       0.01893408, 0.01916784, 0.01940159, 0.01963534, 0.0198691 ,\n",
       "       0.02010285, 0.02033661, 0.02057036, 0.02080411, 0.02103787,\n",
       "       0.02127162, 0.02150538])"
      ]
     },
     "execution_count": 12,
     "metadata": {},
     "output_type": "execute_result"
    }
   ],
   "source": [
    "probabilities = np.array(list(number_of_entries.values())) / total_entries\n",
    "probabilities"
   ]
  },
  {
   "cell_type": "code",
   "execution_count": 13,
   "metadata": {},
   "outputs": [],
   "source": [
    "clubs_to_draw_from = list(number_of_entries.keys())"
   ]
  },
  {
   "cell_type": "code",
   "execution_count": 14,
   "metadata": {},
   "outputs": [
    {
     "data": {
      "text/plain": [
       "array(['Middlesbrough', 'Chelsea', 'Cambridge Utd', 'Peterborough'],\n",
       "      dtype='<U18')"
      ]
     },
     "execution_count": 14,
     "metadata": {},
     "output_type": "execute_result"
    }
   ],
   "source": [
    "rng.choice(clubs_to_draw_from, size=4, replace=False, p=probabilities)"
   ]
  }
 ],
 "metadata": {
  "kernelspec": {
   "display_name": "Python 3.10.5 ('py3105')",
   "language": "python",
   "name": "python3"
  },
  "language_info": {
   "codemirror_mode": {
    "name": "ipython",
    "version": 3
   },
   "file_extension": ".py",
   "mimetype": "text/x-python",
   "name": "python",
   "nbconvert_exporter": "python",
   "pygments_lexer": "ipython3",
   "version": "3.10.5"
  },
  "orig_nbformat": 4,
  "vscode": {
   "interpreter": {
    "hash": "3147a534e5761fb78990c2c2cd7d8c19084034ed5d96bda803c5d9ba8071b170"
   }
  }
 },
 "nbformat": 4,
 "nbformat_minor": 2
}
